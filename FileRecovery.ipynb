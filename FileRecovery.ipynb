{
 "cells": [
  {
   "cell_type": "code",
   "execution_count": 21,
   "id": "54a7006d-ccf1-42a9-9abc-79d701c48aaf",
   "metadata": {},
   "outputs": [
    {
     "name": "stdout",
     "output_type": "stream",
     "text": [
      "Sample exists? True\n"
     ]
    }
   ],
   "source": [
    "# Absolute path to your sample.jpg\n",
    "sample_file =\"Path to img\"\n",
    "\n",
    "\n",
    "# Test if file exists\n",
    "import os\n",
    "print(\"Sample exists?\", os.path.exists(sample_file))\n"
   ]
  },
  {
   "cell_type": "code",
   "execution_count": 22,
   "id": "6dc090af-5b4a-4ee3-8fb1-30a3bc1dbb9a",
   "metadata": {},
   "outputs": [
    {
     "name": "stdout",
     "output_type": "stream",
     "text": [
      "disk.img created with size: 1090081\n"
     ]
    }
   ],
   "source": [
    "disk_image =\"path of folder\"\n",
    "\n",
    "\n",
    "# Create 1MB blank disk image\n",
    "with open(disk_image, 'wb') as f:\n",
    "    f.write(b'\\x00'*1024*1024)\n",
    "\n",
    "# Append the sample.jpg\n",
    "with open(sample_file, 'rb') as s, open(disk_image, 'ab') as d:\n",
    "    d.write(s.read())\n",
    "\n",
    "print(\"disk.img created with size:\", os.path.getsize(disk_image))\n"
   ]
  },
  {
   "cell_type": "code",
   "execution_count": 23,
   "id": "eb416af9-d2a9-4379-86a4-f703b1374140",
   "metadata": {},
   "outputs": [
    {
     "name": "stdout",
     "output_type": "stream",
     "text": [
      "Recovered: C:\\Users\\kanad\\Desktop\\CSDFASSI\\recovered_0.jpg\n"
     ]
    }
   ],
   "source": [
    "import re\n",
    "\n",
    "data = open(disk_image, 'rb').read()\n",
    "starts = [m.start() for m in re.finditer(b'\\xff\\xd8', data)]\n",
    "ends   = [m.start() for m in re.finditer(b'\\xff\\xd9', data)]\n",
    "\n",
    "for i, s in enumerate(starts):\n",
    "    e = next((x for x in ends if x > s), None)\n",
    "    if e:\n",
    "        out = fr\"Path for recovery img\"\n",
    "\n",
    "        with open(out, 'wb') as f:\n",
    "            f.write(data[s:e+2])\n",
    "        print(\"Recovered:\", out)\n"
   ]
  },
  {
   "cell_type": "code",
   "execution_count": null,
   "id": "d3c7cc2c-654f-4fa7-9fed-53aa9ca2f7c6",
   "metadata": {},
   "outputs": [],
   "source": []
  }
 ],
 "metadata": {
  "kernelspec": {
   "display_name": "Python 3 (ipykernel)",
   "language": "python",
   "name": "python3"
  },
  "language_info": {
   "codemirror_mode": {
    "name": "ipython",
    "version": 3
   },
   "file_extension": ".py",
   "mimetype": "text/x-python",
   "name": "python",
   "nbconvert_exporter": "python",
   "pygments_lexer": "ipython3",
   "version": "3.12.7"
  }
 },
 "nbformat": 4,
 "nbformat_minor": 5
}
