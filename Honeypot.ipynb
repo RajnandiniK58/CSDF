{
 "cells": [
  {
   "cell_type": "code",
   "execution_count": 1,
   "id": "fa1e760b-8fd3-4b02-a4a4-364cab9bf00d",
   "metadata": {},
   "outputs": [
    {
     "name": "stdout",
     "output_type": "stream",
     "text": [
      "honeypot_log.csv already exists\n"
     ]
    }
   ],
   "source": [
    "#  — setup\n",
    "import socketserver, threading, csv, datetime\n",
    "from pathlib import Path\n",
    "\n",
    "LOG_FILE = Path('honeypot_log.csv')\n",
    "\n",
    "# create header if not exists\n",
    "if not LOG_FILE.exists():\n",
    "    with LOG_FILE.open('w', newline='') as f:\n",
    "        csv.writer(f).writerow(['timestamp','src_ip','src_port','recv_text','recv_hex','banner_sent'])\n",
    "    print(\"Created honeypot_log.csv\")\n",
    "else:\n",
    "    print(\"honeypot_log.csv already exists\")\n"
   ]
  },
  {
   "cell_type": "code",
   "execution_count": 2,
   "id": "3e6dfac5-06d1-46f6-9407-445b20aad77d",
   "metadata": {},
   "outputs": [],
   "source": [
    "import socketserver\n",
    "import csv\n",
    "from datetime import datetime, timezone\n",
    "\n",
    "# --- handler class ---\n",
    "class HoneyPotHandler(socketserver.BaseRequestHandler):\n",
    "    def handle(self):\n",
    "        peer_ip, peer_port = self.client_address\n",
    "        try:\n",
    "            self.request.settimeout(2.0)\n",
    "            data = self.request.recv(4096)\n",
    "        except Exception:\n",
    "            data = b''\n",
    "\n",
    "        recv_hex = data.hex()\n",
    "        recv_text = data.decode('utf-8', errors='replace').strip()\n",
    "\n",
    "        # fake banner (mimics SSH to attract scanners)\n",
    "        banner = b\"SSH-2.0-OpenSSH_7.6p1 Ubuntu-4ubuntu0.3\\r\\n\"\n",
    "        try:\n",
    "            self.request.sendall(banner)\n",
    "        except Exception:\n",
    "            pass\n",
    "        timestamp = datetime.now(timezone.utc).isoformat().replace(\"+00:00\", \"Z\")\n",
    "\n",
    "        # append to csv\n",
    "        with LOG_FILE.open('a', newline='') as f:\n",
    "            csv.writer(f).writerow([\n",
    "                timestamp,\n",
    "                peer_ip,\n",
    "                peer_port,\n",
    "                recv_text,\n",
    "                recv_hex,\n",
    "                banner.decode('ascii', 'ignore').strip()\n",
    "            ])\n",
    "\n",
    "        # quick console feedback\n",
    "        print(f\"[{timestamp}] {peer_ip}:{peer_port} -> {recv_text or '[no data]'}\")\n",
    "\n",
    "\n",
    "class ThreadedTCPServer(socketserver.ThreadingMixIn, socketserver.TCPServer):\n",
    "    allow_reuse_address = True\n"
   ]
  },
  {
   "cell_type": "code",
   "execution_count": 4,
   "id": "b58819aa-fbe3-4ee9-afaa-0a7d9d90f5ec",
   "metadata": {},
   "outputs": [
    {
     "name": "stdout",
     "output_type": "stream",
     "text": [
      "Honeypot listening on 127.0.0.1:2222 — server thread started.\n",
      "To stop: run server.shutdown() in a later cell.\n"
     ]
    }
   ],
   "source": [
    "#  — start server (non-blocking)\n",
    "HOST = '127.0.0.1'   \n",
    "PORT = 2222          \n",
    "\n",
    "server = ThreadedTCPServer((HOST, PORT), HoneyPotHandler)\n",
    "t = threading.Thread(target=server.serve_forever, daemon=True)\n",
    "t.start()\n",
    "print(f\"Honeypot listening on {HOST}:{PORT} — server thread started.\")\n",
    "print(\"To stop: run server.shutdown() in a later cell.\")\n"
   ]
  },
  {
   "cell_type": "code",
   "execution_count": 5,
   "id": "94d46399-768d-482b-8263-c0afab3d8a6e",
   "metadata": {},
   "outputs": [
    {
     "name": "stdout",
     "output_type": "stream",
     "text": [
      "Banner received: b'SSH-2.0-OpenSSH_7.6p1 Ubuntu-4ubuntu0.3\\r\\n'\n",
      "[2025-09-23T13:29:17.860898Z] 127.0.0.1:62891 -> HELLO_FROM_TEST_CLIENT\n"
     ]
    }
   ],
   "source": [
    "import socket, time\n",
    "s = socket.socket()\n",
    "s.settimeout(3)\n",
    "s.connect((HOST, PORT))\n",
    "s.send(b'HELLO_FROM_TEST_CLIENT\\r\\n')\n",
    "try:\n",
    "    data = s.recv(1024)\n",
    "    print(\"Banner received:\", data)\n",
    "except Exception as e:\n",
    "    print(\"No banner or timeout:\", e)\n",
    "s.close()\n",
    "time.sleep(0.2)  # let handler log\n"
   ]
  },
  {
   "cell_type": "code",
   "execution_count": 5,
   "id": "053eefca-74fd-495f-82a3-7ab5a4315775",
   "metadata": {},
   "outputs": [
    {
     "data": {
      "text/html": [
       "<div>\n",
       "<style scoped>\n",
       "    .dataframe tbody tr th:only-of-type {\n",
       "        vertical-align: middle;\n",
       "    }\n",
       "\n",
       "    .dataframe tbody tr th {\n",
       "        vertical-align: top;\n",
       "    }\n",
       "\n",
       "    .dataframe thead th {\n",
       "        text-align: right;\n",
       "    }\n",
       "</style>\n",
       "<table border=\"1\" class=\"dataframe\">\n",
       "  <thead>\n",
       "    <tr style=\"text-align: right;\">\n",
       "      <th></th>\n",
       "      <th>timestamp</th>\n",
       "      <th>src_ip</th>\n",
       "      <th>src_port</th>\n",
       "      <th>recv_text</th>\n",
       "      <th>recv_hex</th>\n",
       "      <th>banner_sent</th>\n",
       "    </tr>\n",
       "  </thead>\n",
       "  <tbody>\n",
       "    <tr>\n",
       "      <th>0</th>\n",
       "      <td>2025-09-18T08:16:30.265316Z</td>\n",
       "      <td>127.0.0.1</td>\n",
       "      <td>64276</td>\n",
       "      <td>HELLO_FROM_TEST_CLIENT</td>\n",
       "      <td>48454c4c4f5f46524f4d5f544553545f434c49454e540d0a</td>\n",
       "      <td>SSH-2.0-OpenSSH_7.6p1 Ubuntu-4ubuntu0.3</td>\n",
       "    </tr>\n",
       "  </tbody>\n",
       "</table>\n",
       "</div>"
      ],
      "text/plain": [
       "                     timestamp     src_ip  src_port               recv_text  \\\n",
       "0  2025-09-18T08:16:30.265316Z  127.0.0.1     64276  HELLO_FROM_TEST_CLIENT   \n",
       "\n",
       "                                           recv_hex  \\\n",
       "0  48454c4c4f5f46524f4d5f544553545f434c49454e540d0a   \n",
       "\n",
       "                               banner_sent  \n",
       "0  SSH-2.0-OpenSSH_7.6p1 Ubuntu-4ubuntu0.3  "
      ]
     },
     "execution_count": 5,
     "metadata": {},
     "output_type": "execute_result"
    }
   ],
   "source": [
    "\n",
    "import pandas as pd\n",
    "df = pd.read_csv('honeypot_log.csv')\n",
    "df.tail(20)\n"
   ]
  },
  {
   "cell_type": "code",
   "execution_count": 6,
   "id": "2521e317-bf13-4c80-bbac-1e98c176b415",
   "metadata": {},
   "outputs": [
    {
     "name": "stdout",
     "output_type": "stream",
     "text": [
      "Honeypot stopped.\n"
     ]
    }
   ],
   "source": [
    "# — stop server cleanly\n",
    "server.shutdown()\n",
    "server.server_close()\n",
    "print(\"Honeypot stopped.\")\n"
   ]
  }
 ],
 "metadata": {
  "kernelspec": {
   "display_name": "Python 3 (ipykernel)",
   "language": "python",
   "name": "python3"
  },
  "language_info": {
   "codemirror_mode": {
    "name": "ipython",
    "version": 3
   },
   "file_extension": ".py",
   "mimetype": "text/x-python",
   "name": "python",
   "nbconvert_exporter": "python",
   "pygments_lexer": "ipython3",
   "version": "3.12.7"
  }
 },
 "nbformat": 4,
 "nbformat_minor": 5
}
