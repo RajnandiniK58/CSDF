{
 "cells": [
  {
   "cell_type": "code",
   "execution_count": null,
   "id": "ea259546-3fdc-4616-a442-4ed7821c6377",
   "metadata": {},
   "outputs": [],
   "source": [
    "raw = open(\"Path to downloaded email\", \"r\", errors=\"ignore\").read()"
   ]
  },
  {
   "cell_type": "code",
   "execution_count": null,
   "id": "bfa3c968-0f15-4985-9734-145c20aa3d4f",
   "metadata": {},
   "outputs": [],
   "source": [
    "import mailparser\n",
    "mp = mailparser.parse_from_file(\"Path to downloaded email\")\n",
    "print(\"From:\", mp.from_)\n",
    "print(\"To:\", mp.to)\n",
    "print(\"Subject:\", mp.subject)\n",
    "print(\"Message-ID:\", mp.message_id)\n",
    "print(\"Date:\", mp.date)\n"
   ]
  },
  {
   "cell_type": "code",
   "execution_count": null,
   "id": "f52524b3-7b9e-48e2-9c52-eedce2b3cf47",
   "metadata": {},
   "outputs": [],
   "source": [
    "print(\"\\nAll Received headers:\")\n",
    "\n",
    "# headers is a dict; get all \"Received\" headers using get() → returns list\n",
    "received_headers = mp.headers.get('Received', [])\n",
    "\n",
    "for r in received_headers:\n",
    "    print(\"----\\n\", r)\n",
    "\n"
   ]
  },
  {
   "cell_type": "code",
   "execution_count": null,
   "id": "88d24a37-df53-4a31-bc34-66f5ba165ee2",
   "metadata": {},
   "outputs": [],
   "source": [
    "import re\n",
    "\n",
    "received_text = \"\\n\".join(received_headers)\n",
    "ips = re.findall(r\"\\b(?:\\d{1,3}\\.){3}\\d{1,3}\\b\", received_text)\n",
    "\n",
    "print(\"\\nIPs found in Received headers (first-to-last):\")\n",
    "print(ips)\n",
    "\n",
    "if not ips:\n",
    "    print(\"No IPs found — maybe only internal/private addresses (10.x, 192.168.x.x)\")\n"
   ]
  },
  {
   "cell_type": "code",
   "execution_count": null,
   "id": "52fc6693-75cb-475c-bdaf-b44aa7687262",
   "metadata": {},
   "outputs": [],
   "source": [
    "import requests\n",
    "\n",
    "def geo(ip):\n",
    "    try:\n",
    "        r = requests.get(f\"http://ip-api.com/json/{ip}\").json()\n",
    "        return r\n",
    "    except Exception as e:\n",
    "        return {\"error\": str(e)}\n",
    "\n",
    "# Earliest sender IP is usually the **last one in Received headers**\n",
    "earliest_ip = ips[-1]  # check manually if needed\n",
    "\n",
    "print(\"\\nGeolocation of earliest sender IP:\")\n",
    "location = geo(earliest_ip)\n",
    "print(location)\n"
   ]
  },
  {
   "cell_type": "code",
   "execution_count": null,
   "id": "f958beb8-3d3e-4e39-898d-b93d6d2545e3",
   "metadata": {},
   "outputs": [],
   "source": [
    "print(\"\\n========== ASSIGNMENT-1 ==========\")\n",
    "print(\"From:\", mp.from_)\n",
    "print(\"To:\", mp.to)\n",
    "print(\"Message-ID:\", mp.message_id)\n",
    "print(\"Date:\", mp.date)\n",
    "print(\"Received IPs:\", ips)\n",
    "print(\"Originating IP (earliest hop):\", earliest_ip)\n",
    "print(\"Geolocation:\", location)\n",
    "print(\"=============================\")\n"
   ]
  },
  {
   "cell_type": "code",
   "execution_count": null,
   "id": "e6c33b31-7233-4033-80b7-578eadb7ac8d",
   "metadata": {},
   "outputs": [],
   "source": []
  }
 ],
 "metadata": {
  "kernelspec": {
   "display_name": "Python 3 (ipykernel)",
   "language": "python",
   "name": "python3"
  },
  "language_info": {
   "codemirror_mode": {
    "name": "ipython",
    "version": 3
   },
   "file_extension": ".py",
   "mimetype": "text/x-python",
   "name": "python",
   "nbconvert_exporter": "python",
   "pygments_lexer": "ipython3",
   "version": "3.12.7"
  }
 },
 "nbformat": 4,
 "nbformat_minor": 5
}
