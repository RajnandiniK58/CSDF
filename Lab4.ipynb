{
 "cells": [
  {
   "cell_type": "code",
   "execution_count": null,
   "id": "b17cb682-aa7d-4f5b-8dc1-55f519962adc",
   "metadata": {},
   "outputs": [],
   "source": [
    "from pathlib import Path\n",
    "import re\n",
    "from pathlib import Path\n",
    "import pandas as pd\n",
    "\n",
    "# Paths for your PC\n",
    "LOG_DIR = Path(\"Path for logs\")  # logs folder\n",
    "RESULTS_DIR = Path(\"Path for results\")  # results folder\n",
    "RESULTS_DIR.mkdir(parents=True, exist_ok=True)\n",
    "\n",
    "print(\"Logs folder:\", LOG_DIR)\n",
    "print(\"Files found:\", [p.name for p in LOG_DIR.glob('*')])\n"
   ]
  },
  {
   "cell_type": "code",
   "execution_count": null,
   "id": "cf10a5df-bbfd-4927-9c81-7eecfb63ffba",
   "metadata": {},
   "outputs": [],
   "source": [
    "# Cell 2 — Verify files and preview\n",
    "for fname in ['auth.log', 'system.log', 'web.log']:\n",
    "    p = LOG_DIR / fname\n",
    "    print(\"----\", fname, \"exists?\", p.exists())\n",
    "    if p.exists():\n",
    "        print('\\n'.join(p.read_text(errors='ignore').splitlines()[:6]))\n",
    "    print()\n"
   ]
  },
  {
   "cell_type": "code",
   "execution_count": null,
   "id": "fbcf768a-043e-452d-9ef7-4933a3dd4fad",
   "metadata": {},
   "outputs": [],
   "source": [
    "from pathlib import Path\n",
    "import re\n",
    "import pandas as pd\n",
    "\n",
    "# Base folder for logs on your PC\n",
    "DATA = Path(Base folder path)\n",
    "auth_path = DATA / Path for auth.log\n",
    "\n",
    "\n",
    "print(\"DATA folder:\", DATA)\n",
    "print(\"auth.log path:\", auth_path)\n",
    "print(\"auth.log exists?\", auth_path.exists())\n",
    "\n"
   ]
  },
  {
   "cell_type": "code",
   "execution_count": null,
   "id": "5bcfddf1-b500-4598-a097-d29b40652dc9",
   "metadata": {},
   "outputs": [],
   "source": [
    "if not auth_path.exists():\n",
    "    raise FileNotFoundError(f\"auth.log not found at {auth_path}. Put the file there or update DATA path.\")\n",
    "\n",
    "lines = auth_path.read_text(errors='ignore').splitlines()\n",
    "print(\"Total lines:\", len(lines))\n",
    "print(\"First 8 lines:\")\n",
    "print(\"\\n\".join(lines[:8]))\n"
   ]
  },
  {
   "cell_type": "code",
   "execution_count": null,
   "id": "ab28b90b-0210-45b8-bbb9-25e697a48ca6",
   "metadata": {},
   "outputs": [],
   "source": [
    "from pathlib import Path\n",
    "import re\n",
    "import pandas as pd\n",
    "\n",
    "# Path to auth.log on your PC\n",
    "auth_path = Path()\n",
    "\n",
    "failed = []\n",
    "\n",
    "# Read the log and find failed SSH attempts\n",
    "with open(auth_path, 'r', errors='ignore') as f:\n",
    "    for line in f:\n",
    "        if ('Failed password' in line) or ('authentication failure' in line) or ('Failed publickey' in line):\n",
    "            m = re.search(r'from\\s+(\\d{1,3}(?:\\.\\d{1,3}){3})', line)\n",
    "            if m:\n",
    "                parts = line.split()\n",
    "                ts = \" \".join(parts[0:3]) if len(parts) >= 3 else \"\"\n",
    "                failed.append({'ts': ts, 'ip': m.group(1), 'raw': line.strip()})\n",
    "\n",
    "# Convert to DataFrame\n",
    "df_failed = pd.DataFrame(failed)\n",
    "\n",
    "if df_failed.empty:\n",
    "    print(\"No failed SSH entries found in auth.log\")\n",
    "else:\n",
    "    # Count failed attempts per IP\n",
    "    df_failed['count'] = df_failed.groupby('ip')['ip'].transform('count')\n",
    "    df_failed = df_failed.sort_values(['count','ip'], ascending=[False, True]).reset_index(drop=True)\n",
    "    display(df_failed.head(20))\n"
   ]
  },
  {
   "cell_type": "code",
   "execution_count": null,
   "id": "b0ce6113-fa0a-40b7-84e9-31fd85b1a9c1",
   "metadata": {},
   "outputs": [],
   "source": [
    "#summarise totals\n",
    "print(\"Total failed logins:\", len(df_failed))\n",
    "print(\"Unique attacker IPs:\", df_failed['ip'].nunique())\n",
    "print(\"Top 5 attacker IPs:\")\n",
    "print(df_failed['ip'].value_counts().head())\n"
   ]
  },
  {
   "cell_type": "code",
   "execution_count": null,
   "id": "bf900e56-b1a3-4265-8ad5-0c2cf17dc183",
   "metadata": {},
   "outputs": [],
   "source": [
    "#coorelate with access.log \n",
    "web_path = Path()\n",
    "\n",
    "if web_path.exists():\n",
    "    web_lines = web_path.read_text(errors='ignore').splitlines()\n",
    "    \n",
    "    # Extract IPs from web.log\n",
    "    ips_in_web = [\n",
    "        re.search(r'(\\d{1,3}(?:\\.\\d{1,3}){3})', l).group(1)\n",
    "        for l in web_lines if re.search(r'(\\d{1,3}(?:\\.\\d{1,3}){3})', l)\n",
    "    ]\n",
    "    \n",
    "    # Find overlap\n",
    "    overlap = set(df_failed['ip']).intersection(set(ips_in_web))\n",
    "    print(\"IPs seen in BOTH auth.log and web.log:\", overlap)\n",
    "else:\n",
    "    print(\"No web.log file found, skipping correlation.\")\n"
   ]
  },
  {
   "cell_type": "code",
   "execution_count": null,
   "id": "5e438383-8f7d-4664-9cdc-050eb0f19867",
   "metadata": {},
   "outputs": [],
   "source": [
    "report_path = Path()\n",
    "report_path.parent.mkdir(parents=True, exist_ok=True)  # Ensure the results folder exists\n",
    "\n",
    "with open(report_path, \"w\") as f:\n",
    "    f.write(\"CSDF Lab - Assignment 4 Findings\\n\")\n",
    "    f.write(\"=\"*40 + \"\\n\\n\")\n",
    "    f.write(f\"Total failed logins: {len(df_failed)}\\n\")\n",
    "    f.write(f\"Unique attacker IPs: {df_failed['ip'].nunique()}\\n\\n\")\n",
    "    f.write(\"Top 5 attacker IPs:\\n\")\n",
    "    f.write(str(df_failed['ip'].value_counts().head()))\n",
    "    f.write(\"\\n\")\n",
    "\n",
    "print(\"Report saved to:\", report_path)\n",
    "\n"
   ]
  },
  {
   "cell_type": "code",
   "execution_count": null,
   "id": "812e6684-70af-4f5f-bcbe-26d9ff38305c",
   "metadata": {},
   "outputs": [],
   "source": []
  }
 ],
 "metadata": {
  "kernelspec": {
   "display_name": "Python 3 (ipykernel)",
   "language": "python",
   "name": "python3"
  },
  "language_info": {
   "codemirror_mode": {
    "name": "ipython",
    "version": 3
   },
   "file_extension": ".py",
   "mimetype": "text/x-python",
   "name": "python",
   "nbconvert_exporter": "python",
   "pygments_lexer": "ipython3",
   "version": "3.12.7"
  }
 },
 "nbformat": 4,
 "nbformat_minor": 5
}
